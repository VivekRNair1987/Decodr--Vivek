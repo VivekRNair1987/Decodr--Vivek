{
 "cells": [
  {
   "cell_type": "markdown",
   "metadata": {
    "id": "24kR8DnAEDne"
   },
   "source": [
    "**[Slide No. 47]**\n",
    "\n",
    "1. Create a empty Dictionary and check its Data type."
   ]
  },
  {
   "cell_type": "code",
   "execution_count": 1,
   "metadata": {
    "colab": {
     "base_uri": "https://localhost:8080/"
    },
    "executionInfo": {
     "elapsed": 10,
     "status": "ok",
     "timestamp": 1624194162945,
     "user": {
      "displayName": "sai darshini",
      "photoUrl": "",
      "userId": "15530230778984429889"
     },
     "user_tz": -330
    },
    "id": "mHhKHu13oltD",
    "outputId": "70dd339a-db9d-444d-ab69-26443f316347"
   },
   "outputs": [
    {
     "name": "stdout",
     "output_type": "stream",
     "text": [
      "<class 'dict'>\n"
     ]
    }
   ],
   "source": [
    "dict1={}\n",
    "print(type(dict1))"
   ]
  },
  {
   "cell_type": "markdown",
   "metadata": {
    "id": "osWsIyfiENG9"
   },
   "source": [
    "**[Slide No.48]**\n",
    "\n",
    "2.  Write a Python program  to add a key to a dictionary\n",
    "\n",
    "Sample Dictionary : {0: 10, 1: 20}\n",
    "\n",
    "Expected Result : {0: 10, 1: 20, 2: 30}"
   ]
  },
  {
   "cell_type": "code",
   "execution_count": 7,
   "metadata": {
    "colab": {
     "base_uri": "https://localhost:8080/"
    },
    "executionInfo": {
     "elapsed": 508,
     "status": "ok",
     "timestamp": 1624194296517,
     "user": {
      "displayName": "sai darshini",
      "photoUrl": "",
      "userId": "15530230778984429889"
     },
     "user_tz": -330
    },
    "id": "pNtCGJmlolLo",
    "outputId": "ea06a439-320d-405f-fd10-cd7bfb8c44b1"
   },
   "outputs": [
    {
     "name": "stdout",
     "output_type": "stream",
     "text": [
      "{0: 10, 1: 20, 2: 30}\n"
     ]
    }
   ],
   "source": [
    "Dict1={0:10,1:20}\n",
    "Dict1[2]=30\n",
    "print(Dict1)"
   ]
  },
  {
   "cell_type": "markdown",
   "metadata": {
    "id": "Zu0BHrf1Ej1d"
   },
   "source": [
    "**[Slide No. 48]**\n",
    "\n",
    "3.  Write a Python script to concatenate following dictionaries to create a new one.\n",
    "\n",
    "Sample Dictionary :\n",
    "\n",
    "dic1={1:10, 2:20}\n",
    "\n",
    "dic2={3:30, 4:40}\n",
    "\n",
    "dic3={5:50,6:60}\n",
    "\n",
    "Expected Result : {1: 10, 2: 20, 3: 30, 4: 40, 5: 50, 6: 60}"
   ]
  },
  {
   "cell_type": "code",
   "execution_count": 17,
   "metadata": {
    "colab": {
     "base_uri": "https://localhost:8080/"
    },
    "executionInfo": {
     "elapsed": 526,
     "status": "ok",
     "timestamp": 1624194494227,
     "user": {
      "displayName": "sai darshini",
      "photoUrl": "",
      "userId": "15530230778984429889"
     },
     "user_tz": -330
    },
    "id": "itk1nmgxomLv",
    "outputId": "9297c126-d872-4b3a-8159-465eff9c239b"
   },
   "outputs": [
    {
     "name": "stdout",
     "output_type": "stream",
     "text": [
      "{1: 10, 2: 20, 3: 30, 4: 40, 5: 50, 6: 60}\n"
     ]
    }
   ],
   "source": [
    "dic1={1:10, 2:20}\n",
    "dic2={3:30, 4:40}\n",
    "dic3={5:50,6:60}\n",
    "dic1.update(dic2)\n",
    "dic1.update(dic3)\n",
    "print(dic1)"
   ]
  },
  {
   "cell_type": "markdown",
   "metadata": {
    "id": "veyD5dq5E1N8"
   },
   "source": [
    "**[Slide No. 48]**\n",
    "\n",
    "4. Write a program to create Dictionary and add new item in it."
   ]
  },
  {
   "cell_type": "code",
   "execution_count": 20,
   "metadata": {
    "colab": {
     "base_uri": "https://localhost:8080/"
    },
    "executionInfo": {
     "elapsed": 5,
     "status": "ok",
     "timestamp": 1624194597394,
     "user": {
      "displayName": "sai darshini",
      "photoUrl": "",
      "userId": "15530230778984429889"
     },
     "user_tz": -330
    },
    "id": "9-WHcVwAomr6",
    "outputId": "3ba9318e-9df3-4f0c-ed19-b266d1f663c2"
   },
   "outputs": [
    {
     "name": "stdout",
     "output_type": "stream",
     "text": [
      "{'Fruit': 'apple', 'Place': 'Bangalore'}\n"
     ]
    }
   ],
   "source": [
    "dic1={'Fruit':'apple'}\n",
    "dic1['Place']='Bangalore'\n",
    "print(dic1)"
   ]
  },
  {
   "cell_type": "markdown",
   "metadata": {
    "id": "RfJujduxFLpC"
   },
   "source": [
    "**[Slide No. 48]**\n",
    "\n",
    "5. Write a program to create Dictionary and delete the item at 3 index . "
   ]
  },
  {
   "cell_type": "code",
   "execution_count": 26,
   "metadata": {
    "colab": {
     "base_uri": "https://localhost:8080/"
    },
    "executionInfo": {
     "elapsed": 519,
     "status": "ok",
     "timestamp": 1624194823395,
     "user": {
      "displayName": "sai darshini",
      "photoUrl": "",
      "userId": "15530230778984429889"
     },
     "user_tz": -330
    },
    "id": "zSUrG-QDonHH",
    "outputId": "a2acd338-387a-4e7b-be14-d59189958086"
   },
   "outputs": [
    {
     "name": "stdout",
     "output_type": "stream",
     "text": [
      "{'Fruit': 'apple', 'Place': 'Bangalore', 'Animal': 'Tiger', 'Thing': 'Laptop'}\n",
      "{'Fruit': 'apple', 'Place': 'Bangalore', 'Animal': 'Tiger'}\n"
     ]
    }
   ],
   "source": [
    "dic1={'Fruit':'apple'}\n",
    "dic1['Place']='Bangalore'\n",
    "dic1['Animal']='Tiger'\n",
    "dic1['Thing']='Laptop'\n",
    "print(dic1)\n",
    "dic1.pop('Thing')\n",
    "print(dic1)"
   ]
  },
  {
   "cell_type": "markdown",
   "metadata": {
    "id": "zjee54MuFZZ7"
   },
   "source": [
    "**[Slide No. 48]**\n",
    "\n",
    "6. Write a program to create dictionary and delete last item from it."
   ]
  },
  {
   "cell_type": "code",
   "execution_count": 30,
   "metadata": {
    "colab": {
     "base_uri": "https://localhost:8080/"
    },
    "executionInfo": {
     "elapsed": 534,
     "status": "ok",
     "timestamp": 1624195130870,
     "user": {
      "displayName": "sai darshini",
      "photoUrl": "",
      "userId": "15530230778984429889"
     },
     "user_tz": -330
    },
    "id": "gVtqF24Wonln",
    "outputId": "e0a44056-71af-44fd-8047-e9c0d8a76c3f"
   },
   "outputs": [
    {
     "name": "stdout",
     "output_type": "stream",
     "text": [
      "{'Fruit': 'apple', 'Place': 'Bangalore', 'Animal': 'Tiger', 'Thing': 'Laptop'}\n",
      "{'Fruit': 'apple', 'Place': 'Bangalore', 'Animal': 'Tiger'}\n"
     ]
    }
   ],
   "source": [
    "dic1={'Fruit':'apple'}\n",
    "dic1['Place']='Bangalore'\n",
    "dic1['Animal']='Tiger'\n",
    "dic1['Thing']='Laptop'\n",
    "print(dic1)\n",
    "del dic1['Thing']\n",
    "print(dic1)"
   ]
  },
  {
   "cell_type": "markdown",
   "metadata": {
    "id": "R9W-fDghF002"
   },
   "source": [
    "**[Slide No. 49]**\n",
    "\n",
    "7. Create a dictionary and print the item at 2nd index value."
   ]
  },
  {
   "cell_type": "code",
   "execution_count": 47,
   "metadata": {
    "colab": {
     "base_uri": "https://localhost:8080/"
    },
    "executionInfo": {
     "elapsed": 497,
     "status": "ok",
     "timestamp": 1624195490497,
     "user": {
      "displayName": "sai darshini",
      "photoUrl": "",
      "userId": "15530230778984429889"
     },
     "user_tz": -330
    },
    "id": "seEctrJAon-3",
    "outputId": "5f1fdcab-14bd-46ea-ba2a-c5de0c22994c"
   },
   "outputs": [
    {
     "name": "stdout",
     "output_type": "stream",
     "text": [
      "{'Fruit': 'apple', 'Place': 'Bangalore', 'Animal': 'Tiger', 'Thing': 'Laptop'}\n",
      "('Animal', 'Tiger')\n"
     ]
    }
   ],
   "source": [
    "dic1={'Fruit':'apple'}\n",
    "dic1['Place']='Bangalore'\n",
    "dic1['Animal']='Tiger'\n",
    "dic1['Thing']='Laptop'\n",
    "print(dic1)\n",
    "l=list(dic1.items())\n",
    "print(l[2])"
   ]
  },
  {
   "cell_type": "markdown",
   "metadata": {
    "id": "Hk9Oaiitvpu0"
   },
   "source": [
    "**[Slide No. 49]**\n",
    "\n",
    "8. Create a Dictionary and change the range of key value ."
   ]
  },
  {
   "cell_type": "code",
   "execution_count": 48,
   "metadata": {
    "colab": {
     "base_uri": "https://localhost:8080/"
    },
    "executionInfo": {
     "elapsed": 769,
     "status": "ok",
     "timestamp": 1624195527442,
     "user": {
      "displayName": "sai darshini",
      "photoUrl": "",
      "userId": "15530230778984429889"
     },
     "user_tz": -330
    },
    "id": "jtznb02Oh5rg",
    "outputId": "32543e51-091c-4534-87a5-d9bfe80ac5e4"
   },
   "outputs": [
    {
     "name": "stdout",
     "output_type": "stream",
     "text": [
      "{'Fruit': 'apple', 'Place': 'Bangalore', 'Animal': 'Tiger', 'Thing': 'Laptop'}\n",
      "{'Fruit': 'apple', 'Place': 'Bangalore', 'Animal': 'Lion', 'Thing': 'Laptop'}\n"
     ]
    }
   ],
   "source": [
    "dic1={'Fruit':'apple'}\n",
    "dic1['Place']='Bangalore'\n",
    "dic1['Animal']='Tiger'\n",
    "dic1['Thing']='Laptop'\n",
    "print(dic1)\n",
    "dic1['Animal']='Lion'\n",
    "print(dic1)"
   ]
  }
 ],
 "metadata": {
  "colab": {
   "collapsed_sections": [],
   "name": "Dictionary_assignment.ipynb",
   "provenance": []
  },
  "kernelspec": {
   "display_name": "Python 3",
   "language": "python",
   "name": "python3"
  },
  "language_info": {
   "codemirror_mode": {
    "name": "ipython",
    "version": 3
   },
   "file_extension": ".py",
   "mimetype": "text/x-python",
   "name": "python",
   "nbconvert_exporter": "python",
   "pygments_lexer": "ipython3",
   "version": "3.8.8"
  }
 },
 "nbformat": 4,
 "nbformat_minor": 1
}
