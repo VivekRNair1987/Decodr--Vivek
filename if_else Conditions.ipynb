{
 "cells": [
  {
   "cell_type": "markdown",
   "metadata": {
    "id": "R4WDgVjUKTuW"
   },
   "source": [
    "**[Slide no.52]**\n",
    "\n",
    "1. write a program to Check wheather the age entered by user is above 18 or not?"
   ]
  },
  {
   "cell_type": "code",
   "execution_count": 1,
   "metadata": {
    "colab": {
     "base_uri": "https://localhost:8080/"
    },
    "executionInfo": {
     "elapsed": 4514,
     "status": "ok",
     "timestamp": 1624713609790,
     "user": {
      "displayName": "sai darshini",
      "photoUrl": "",
      "userId": "15530230778984429889"
     },
     "user_tz": -330
    },
    "id": "QUYDTLIKKVM3",
    "outputId": "f5c6d87a-4a08-457e-dcdd-7b91823ea7b9"
   },
   "outputs": [
    {
     "name": "stdout",
     "output_type": "stream",
     "text": [
      "18\n",
      "eligible\n"
     ]
    }
   ],
   "source": [
    "age=int(input())\n",
    "if age>=18:\n",
    "  print('eligible')\n",
    "else:\n",
    "  print('not eligible')\n"
   ]
  },
  {
   "cell_type": "markdown",
   "metadata": {
    "id": "UtMMk_C_KVaA"
   },
   "source": [
    "**[Slide No. 52]**\n",
    "\n",
    "2. Write a program to check number entered is even or not ?"
   ]
  },
  {
   "cell_type": "code",
   "execution_count": 3,
   "metadata": {
    "colab": {
     "base_uri": "https://localhost:8080/"
    },
    "executionInfo": {
     "elapsed": 3299,
     "status": "ok",
     "timestamp": 1624713721255,
     "user": {
      "displayName": "sai darshini",
      "photoUrl": "",
      "userId": "15530230778984429889"
     },
     "user_tz": -330
    },
    "id": "tdX72iluKVu5",
    "outputId": "8ab18a12-581f-4b33-be0e-e0f7acb725e8"
   },
   "outputs": [
    {
     "name": "stdout",
     "output_type": "stream",
     "text": [
      "3\n",
      "number is odd\n"
     ]
    }
   ],
   "source": [
    "number=int(input())\n",
    "if number%2 == 0:\n",
    "  print('number is even')\n",
    "elif number%2 != 0:\n",
    "  print('number is odd')\n"
   ]
  },
  {
   "cell_type": "markdown",
   "metadata": {
    "id": "Pf8qWzurKWDn"
   },
   "source": [
    "**[Slide No. 53]**\n",
    "\n",
    "3. Write a program to print largest number from three given numbers."
   ]
  },
  {
   "cell_type": "code",
   "execution_count": 9,
   "metadata": {
    "colab": {
     "base_uri": "https://localhost:8080/"
    },
    "executionInfo": {
     "elapsed": 6411,
     "status": "ok",
     "timestamp": 1624714158378,
     "user": {
      "displayName": "sai darshini",
      "photoUrl": "",
      "userId": "15530230778984429889"
     },
     "user_tz": -330
    },
    "id": "RlgJ1ag0MjCy",
    "outputId": "a4cfe6fa-28c8-4dfc-db59-9d4f82023846"
   },
   "outputs": [
    {
     "name": "stdout",
     "output_type": "stream",
     "text": [
      "Enter first number\n",
      "5\n",
      "Enter second number\n",
      "6\n",
      "Enter third number\n",
      "7\n",
      "7 is greater than other two numbers 5 and 6\n"
     ]
    }
   ],
   "source": [
    "print ('Enter first number')\n",
    "a=int(input())\n",
    "print ('Enter second number')\n",
    "b=int(input())\n",
    "print ('Enter third number')\n",
    "c=int(input())\n",
    "\n",
    "if a>b and a>c:\n",
    "  print(a,'is greater than other two numbers', b ,'and', c)\n",
    "elif b>a and b>c:\n",
    "  print(b,'is greater than other two numbers', a, 'and', c)\n",
    "else:\n",
    "   print(c,'is greater than other two numbers', a ,'and',b)"
   ]
  },
  {
   "cell_type": "markdown",
   "metadata": {
    "id": "lXjKH26aKWHy"
   },
   "source": [
    "**[Slide No.54]**\n",
    "\n",
    "4. Write a program to check whether the user enter number is 10,50 and 100 .\n",
    "\n"
   ]
  },
  {
   "cell_type": "code",
   "execution_count": 14,
   "metadata": {
    "colab": {
     "base_uri": "https://localhost:8080/"
    },
    "executionInfo": {
     "elapsed": 3063,
     "status": "ok",
     "timestamp": 1624714339051,
     "user": {
      "displayName": "sai darshini",
      "photoUrl": "",
      "userId": "15530230778984429889"
     },
     "user_tz": -330
    },
    "id": "4IsUverrMj-s",
    "outputId": "65cb29e4-28f3-49cb-b261-9204d822d47c"
   },
   "outputs": [
    {
     "name": "stdout",
     "output_type": "stream",
     "text": [
      "Enter a number\n",
      "40\n",
      "number entered is not 10, 50 or 100\n"
     ]
    }
   ],
   "source": [
    "print ('Enter a number')\n",
    "a=int(input())\n",
    "if a == 10 or a == 50 or a == 100:\n",
    "  print(\"number entered is\",a)\n",
    "else :\n",
    "  print(\"number entered is not 10, 50 or 100\")"
   ]
  },
  {
   "cell_type": "markdown",
   "metadata": {
    "id": "hzFpudkgKWhJ"
   },
   "source": [
    "**[Slide No. 54]**\n",
    "\n",
    "5. Write a program to check given number is multiple of 6 or not ."
   ]
  },
  {
   "cell_type": "code",
   "execution_count": 17,
   "metadata": {
    "colab": {
     "base_uri": "https://localhost:8080/"
    },
    "executionInfo": {
     "elapsed": 2842,
     "status": "ok",
     "timestamp": 1624714431237,
     "user": {
      "displayName": "sai darshini",
      "photoUrl": "",
      "userId": "15530230778984429889"
     },
     "user_tz": -330
    },
    "id": "GcyVovq0y9Ak",
    "outputId": "16eece9a-eeb3-45dd-f3dc-5c8a20bbc1c4"
   },
   "outputs": [
    {
     "name": "stdout",
     "output_type": "stream",
     "text": [
      "Enter a number\n",
      "49\n",
      "49 is not a multiple of 6\n"
     ]
    }
   ],
   "source": [
    "print ('Enter a number')\n",
    "a=int(input())\n",
    "if a%6 == 0:\n",
    "  print(a,\"is a multiple of 6\")\n",
    "elif a%6 != 0:\n",
    "  print(a,\"is not a multiple of 6\")"
   ]
  },
  {
   "cell_type": "markdown",
   "metadata": {
    "id": "ih7KTp-1HD9F"
   },
   "source": [
    "6.Write av program to check enter number is prime or not"
   ]
  },
  {
   "cell_type": "code",
   "execution_count": 2,
   "metadata": {
    "id": "XCZTMjr0HDg-"
   },
   "outputs": [
    {
     "name": "stdout",
     "output_type": "stream",
     "text": [
      "Enter a number3\n",
      "number is prime\n"
     ]
    }
   ],
   "source": [
    "\n",
    "a = int(input(\"Enter a number\"))\n",
    "\n",
    "for i in range(2,a):\n",
    "    if a%i==0:\n",
    "        print(\"number is not prime\")\n",
    "        break      \n",
    "else:\n",
    "    print(\"number is prime\")\n"
   ]
  },
  {
   "cell_type": "code",
   "execution_count": null,
   "metadata": {
    "id": "AzGl-zkySUA1"
   },
   "outputs": [],
   "source": []
  },
  {
   "cell_type": "code",
   "execution_count": null,
   "metadata": {
    "id": "SPjxvgXkdPPl"
   },
   "outputs": [],
   "source": []
  }
 ],
 "metadata": {
  "colab": {
   "collapsed_sections": [],
   "name": "if_else Conditions.ipynb",
   "provenance": []
  },
  "kernelspec": {
   "display_name": "Python 3",
   "language": "python",
   "name": "python3"
  },
  "language_info": {
   "codemirror_mode": {
    "name": "ipython",
    "version": 3
   },
   "file_extension": ".py",
   "mimetype": "text/x-python",
   "name": "python",
   "nbconvert_exporter": "python",
   "pygments_lexer": "ipython3",
   "version": "3.8.8"
  }
 },
 "nbformat": 4,
 "nbformat_minor": 1
}
