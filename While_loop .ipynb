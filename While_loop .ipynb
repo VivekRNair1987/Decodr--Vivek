{
 "cells": [
  {
   "cell_type": "markdown",
   "id": "12a21a25",
   "metadata": {
    "id": "12a21a25"
   },
   "source": [
    "# 1. Print multiplication table of 24 and 50 upto 10"
   ]
  },
  {
   "cell_type": "code",
   "execution_count": 1,
   "id": "0bf5e71c",
   "metadata": {
    "id": "0bf5e71c"
   },
   "outputs": [
    {
     "name": "stdout",
     "output_type": "stream",
     "text": [
      "Enter the number for multiplication table: \n",
      "25\n",
      "25 x 1 = 25\n",
      "25 x 2 = 50\n",
      "25 x 3 = 75\n",
      "25 x 4 = 100\n",
      "25 x 5 = 125\n",
      "25 x 6 = 150\n",
      "25 x 7 = 175\n",
      "25 x 8 = 200\n",
      "25 x 9 = 225\n",
      "25 x 10 = 250\n"
     ]
    }
   ],
   "source": [
    "num=int(input(\"Enter the number for multiplication table: \\n\"));\n",
    "c=0\n",
    "#get input from user\n",
    "i=0;\n",
    "while(i<=9):  #use for loop to iterates 1 times\n",
    "    i=i+1;\n",
    "    print(num,'x',i,'=',num*i)\n",
    "    \n",
    "    \n",
    "\n"
   ]
  },
  {
   "cell_type": "markdown",
   "id": "7f08437c",
   "metadata": {
    "id": "7f08437c"
   },
   "source": [
    "# 2.Write a while loop statement to print the following series 107,100,93,86....9"
   ]
  },
  {
   "cell_type": "code",
   "execution_count": 2,
   "id": "7bc3f5f6",
   "metadata": {
    "id": "7bc3f5f6"
   },
   "outputs": [
    {
     "name": "stdout",
     "output_type": "stream",
     "text": [
      "Enter the number : \n",
      "107\n",
      "100\n",
      "93\n",
      "86\n",
      "79\n",
      "72\n",
      "65\n",
      "58\n",
      "51\n",
      "44\n",
      "37\n",
      "30\n",
      "23\n",
      "16\n",
      "9\n"
     ]
    }
   ],
   "source": [
    "num=int(input(\"Enter the number : \\n\"))\n",
    "i=1\n",
    "while(i<=num):  #use for loop to iterates 1 times\n",
    "    num=num-7\n",
    "    print(num)\n",
    "    i = i + 1\n",
    "    \n",
    "    "
   ]
  },
  {
   "cell_type": "markdown",
   "id": "2b08396b",
   "metadata": {
    "id": "2b08396b"
   },
   "source": [
    "# 3. Write a program to print the factorial of a number accepted from user."
   ]
  },
  {
   "cell_type": "code",
   "execution_count": 7,
   "id": "9a683d50",
   "metadata": {
    "id": "9a683d50"
   },
   "outputs": [
    {
     "name": "stdout",
     "output_type": "stream",
     "text": [
      "Enter a number to find the factorial\n",
      "10\n",
      "factorial of  10  is  1\n",
      "factorial of  10  is  2\n",
      "factorial of  10  is  6\n",
      "factorial of  10  is  24\n",
      "factorial of  10  is  120\n",
      "factorial of  10  is  720\n",
      "factorial of  10  is  5040\n",
      "factorial of  10  is  40320\n",
      "factorial of  10  is  362880\n",
      "factorial of  10  is  3628800\n"
     ]
    }
   ],
   "source": [
    "num=int(input(\"Enter a number to find the factorial\\n\"))\n",
    " \n",
    "fac = 1\n",
    "i = 1\n",
    " \n",
    "while i <= num:\n",
    "    fac = fac * i\n",
    "    i = i + 1\n",
    " \n",
    "    print(\"factorial of \", num, \" is \", fac)\n",
    "    "
   ]
  },
  {
   "cell_type": "markdown",
   "id": "e89a712d",
   "metadata": {
    "id": "e89a712d"
   },
   "source": [
    "# 4.Write a program to accept 10 numbers from the user and display it’s average"
   ]
  },
  {
   "cell_type": "code",
   "execution_count": 5,
   "id": "239568a8",
   "metadata": {
    "id": "239568a8"
   },
   "outputs": [
    {
     "name": "stdout",
     "output_type": "stream",
     "text": [
      "Input 10 integers to calculate their sum and average\n",
      "1\n",
      "2\n",
      "3\n",
      "4\n",
      "5\n",
      "6\n",
      "7\n",
      "8\n",
      "9\n",
      "10\n",
      "Sum of the above numbers is  55 Average  6.111111111111111\n"
     ]
    }
   ],
   "source": [
    "print(\"Input 10 integers to calculate their sum and average\")\n",
    "\n",
    "i=0\n",
    "sum=0\n",
    "count=0\n",
    "\n",
    "while (i<10):\n",
    "    number = int(input(\"\"))\n",
    "    sum = sum + number\n",
    "    i=i+1\n",
    "    count += 1\n",
    "\n",
    "if count == 0:\n",
    "    print(\"Input some numbers\")\n",
    "else:\n",
    "    print(\"Sum of the above numbers is \",sum, \"Average \", sum / (count-1))"
   ]
  },
  {
   "cell_type": "markdown",
   "id": "c06789e5",
   "metadata": {
    "id": "c06789e5"
   },
   "source": [
    "# 5. Write a program to print the following series till n terms. 2 , 22 , 222 , 2222 _ _ _ _ _ n terms"
   ]
  },
  {
   "cell_type": "code",
   "execution_count": null,
   "id": "4254784c",
   "metadata": {
    "id": "4254784c"
   },
   "outputs": [],
   "source": []
  },
  {
   "cell_type": "markdown",
   "id": "e112e4f2",
   "metadata": {
    "id": "e112e4f2"
   },
   "source": [
    "# 6.Write a Program to print all the characters in the string ‘PYTHON’ using while loop."
   ]
  },
  {
   "cell_type": "code",
   "execution_count": 1,
   "id": "94c69f7c",
   "metadata": {
    "id": "94c69f7c"
   },
   "outputs": [
    {
     "name": "stdout",
     "output_type": "stream",
     "text": [
      "Please Enter your Own String : python\n",
      "The Character at 0 Index Position = p\n",
      "The Character at 1 Index Position = y\n",
      "The Character at 2 Index Position = t\n",
      "The Character at 3 Index Position = h\n",
      "The Character at 4 Index Position = o\n",
      "The Character at 5 Index Position = n\n"
     ]
    }
   ],
   "source": [
    "str1 = input(\"Please Enter your Own String : \")\n",
    "i = 0\n",
    "\n",
    "while(i < len(str1)):\n",
    "    print(\"The Character at %d Index Position = %c\" %(i, str1[i]))\n",
    "    i = i + 1"
   ]
  },
  {
   "cell_type": "code",
   "execution_count": null,
   "id": "3f661d31",
   "metadata": {},
   "outputs": [],
   "source": []
  }
 ],
 "metadata": {
  "colab": {
   "name": "While_loop.ipynb",
   "provenance": []
  },
  "kernelspec": {
   "display_name": "Python 3",
   "language": "python",
   "name": "python3"
  },
  "language_info": {
   "codemirror_mode": {
    "name": "ipython",
    "version": 3
   },
   "file_extension": ".py",
   "mimetype": "text/x-python",
   "name": "python",
   "nbconvert_exporter": "python",
   "pygments_lexer": "ipython3",
   "version": "3.8.8"
  }
 },
 "nbformat": 4,
 "nbformat_minor": 5
}
